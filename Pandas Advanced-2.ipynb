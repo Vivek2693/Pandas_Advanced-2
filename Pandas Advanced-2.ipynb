{
 "cells": [
  {
   "cell_type": "raw",
   "id": "457d5e0e",
   "metadata": {},
   "source": [
    "### Q1. Write a code to print the data present in the second row of the dataframe, df.\n",
    "\n",
    "\n",
    "print(df.iloc[1])\n",
    "This code prints the data present in the second row of the dataframe df using the iloc indexer.\n",
    "\n",
    "### Q2. What is the difference between the functions loc and iloc in pandas.DataFrame?\n",
    "\n",
    "A2.\n",
    "\n",
    "loc: It is used to access a group of rows and columns by labels or a boolean array. It is primarily label based.\n",
    "iloc: It is used for integer-location based indexing, where we specify rows and columns by their integer index.\n",
    "### Q3. Reindex the given dataframe using a variable, reindex = [3,0,1,2] and store it in the variable, new_df then find the output for both new_df.loc[2] and new_df.iloc[2].\n",
    "\n",
    "\n",
    "new_df = df.reindex([3,0,1,2])\n",
    "print(new_df.loc[2])\n",
    "print(new_df.iloc[2])\n",
    "The output for new_df.loc[2] will be the row with index label 2 after reindexing, while the output for new_df.iloc[2] will be the row with integer index 2 after reindexing.\n",
    "\n",
    "### Q4. Write a code to find the following statistical measurements for the above dataframe df1:\n",
    "(i) mean of each and every column present in the dataframe.\n",
    "(ii) standard deviation of column, ‘column_2’\n",
    "\n",
    "\n",
    "\n",
    "# (i) Mean of each column\n",
    "print(df1.mean())\n",
    "\n",
    "# (ii) Standard deviation of column 'column_2'\n",
    "print(df1['column_2'].std())\n",
    "### Q5. Replace the data present in the second row of column, ‘column_2’ by a string variable then find the mean of column, column_2. If you are getting errors in executing it then explain why.\n",
    "\n",
    "\n",
    "\n",
    "df1.loc[2, 'column_2'] = 'String data'\n",
    "print(df1['column_2'].mean())\n",
    "This code will raise an error because the column 'column_2' contains numeric data, and replacing it with a string variable will result in a mixed data type column, which cannot be used to calculate the mean.\n",
    "\n",
    "### Q6. What do you understand about the windows function in pandas and list the types of windows functions?\n",
    "\n",
    "A6.\n",
    "In pandas, window functions are used for computing aggregates over a sliding or rolling window of data. Some common types of window functions include:\n",
    "\n",
    "Rolling: Computes aggregate functions over a fixed-size window of data.\n",
    "Expanding: Computes aggregate functions over all data points up to the current point.\n",
    "Exponential Moving Average (EMA): Computes a weighted moving average where more recent data points are given higher weights.\n",
    "Cumulative: Computes cumulative sum, product, or any other cumulative function over a window of data.\n",
    "\n",
    "\n",
    "### Q7. Write a code to print only the current month and year at the time of answering this ### Question.\n",
    "\n",
    "\n",
    "\n",
    "import pandas as pd\n",
    "\n",
    "# Get current date\n",
    "current_date = pd.Timestamp.now()\n",
    "\n",
    "# Print month and year\n",
    "print(\"Current month:\", current_date.month)\n",
    "print(\"Current year:\", current_date.year)\n",
    "This code prints the current month and year using the pd.Timestamp.now() function.\n",
    "\n",
    "\n"
   ]
  },
  {
   "cell_type": "markdown",
   "id": "760d770b",
   "metadata": {},
   "source": [
    "### Q8. Write a Python program that takes in two dates as input (in the format YYYY-MM-DD) and calculates the difference between them in days, hours, and minutes using Pandas time delta. The program should prompt the user to enter the dates and display the result. Did you observe any difference in both the outputs? If so then explain it.\n"
   ]
  },
  {
   "cell_type": "code",
   "execution_count": null,
   "id": "c74b59f9",
   "metadata": {},
   "outputs": [],
   "source": [
    "import pandas as pd\n",
    "\n",
    "# Prompt user to enter dates\n",
    "date1 = input(\"Enter first date (YYYY-MM-DD): \")\n",
    "date2 = input(\"Enter second date (YYYY-MM-DD): \")\n",
    "\n",
    "# Convert dates to datetime objects\n",
    "date1 = pd.to_datetime(date1)\n",
    "date2 = pd.to_datetime(date2)\n",
    "\n",
    "# Calculate difference using time delta\n",
    "diff = date2 - date1\n",
    "\n",
    "# Display result\n",
    "print(\"Difference in days:\", diff.days)\n",
    "print(\"Difference in hours:\", diff.seconds // 3600)\n",
    "print(\"Difference in minutes:\", (diff.seconds // 60) % 60)"
   ]
  },
  {
   "cell_type": "markdown",
   "id": "11fa17b1",
   "metadata": {},
   "source": [
    "In this code, we use Pandas to_datetime() function to convert the input dates to datetime objects. Then, we calculate the difference between the two dates using time delta (diff = date2 - date1). Finally, we display the difference in days, hours, and minutes.\n",
    "\n",
    "The difference in days is calculated using the days attribute of the time delta object, while the difference in hours and minutes is calculated using the seconds attribute of the time delta object.\n",
    "\n",
    "Observation:\n",
    "\n",
    "There might be a difference in the outputs if the two dates are in different months or years, especially in the calculation of the difference in days. This is because the days attribute of the time delta object calculates the difference in whole days, without considering the fractional part of the day. However, the difference in hours and minutes should remain consistent regardless of the month or year difference."
   ]
  },
  {
   "cell_type": "code",
   "execution_count": null,
   "id": "199f0d1a",
   "metadata": {},
   "outputs": [],
   "source": []
  }
 ],
 "metadata": {
  "kernelspec": {
   "display_name": "Python 3 (ipykernel)",
   "language": "python",
   "name": "python3"
  },
  "language_info": {
   "codemirror_mode": {
    "name": "ipython",
    "version": 3
   },
   "file_extension": ".py",
   "mimetype": "text/x-python",
   "name": "python",
   "nbconvert_exporter": "python",
   "pygments_lexer": "ipython3",
   "version": "3.10.9"
  }
 },
 "nbformat": 4,
 "nbformat_minor": 5
}
